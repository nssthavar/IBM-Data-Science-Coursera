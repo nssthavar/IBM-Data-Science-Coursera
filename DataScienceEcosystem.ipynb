{
 "cells": [
  {
   "cell_type": "markdown",
   "id": "a3bacdbf",
   "metadata": {},
   "source": [
    "# Data Science Tools and Ecosystem"
   ]
  },
  {
   "cell_type": "markdown",
   "id": "ec077847",
   "metadata": {},
   "source": [
    "## In this notebook, Data Science Tools and Ecosystem are summarized."
   ]
  },
  {
   "cell_type": "markdown",
   "id": "32f63da1",
   "metadata": {},
   "source": [
    "# Objectives:\n",
    "\n",
    "•Python\n",
    "•R\n",
    "•SQL\n",
    "•Java\n",
    "•Julia\n",
    "•Scala\n",
    "•JavaScript\n",
    "•Swift"
   ]
  },
  {
   "cell_type": "markdown",
   "id": "6e933155",
   "metadata": {},
   "source": [
    "## Some of the popular languages that Data Scientists use are:\n",
    "1.Python\n",
    "2.R\n",
    "3.SQL\n",
    "4.Java\n",
    "5.Julia\n",
    "6.Scala"
   ]
  },
  {
   "cell_type": "markdown",
   "id": "d8557b3e",
   "metadata": {},
   "source": [
    "## Some of the commonly used libraries used by Data Scientists include:\n",
    "\n",
    "1. TensorFlow\n",
    "2. NumPy\n",
    "3. SciPy \n",
    "4. Pandas\n",
    "5. Matplotlib "
   ]
  },
  {
   "cell_type": "markdown",
   "id": "c9f6f350",
   "metadata": {},
   "source": [
    "## Data Science tools"
   ]
  },
  {
   "cell_type": "code",
   "execution_count": 4,
   "id": "f2f757c6",
   "metadata": {},
   "outputs": [
    {
     "name": "stdout",
     "output_type": "stream",
     "text": [
      "+----------------------+\n",
      "| Data Science Tools   |\n",
      "+======================+\n",
      "| RStudio              |\n",
      "+----------------------+\n",
      "| Apache Spark         |\n",
      "+----------------------+\n",
      "| TensorFlow           |\n",
      "+----------------------+\n"
     ]
    }
   ],
   "source": [
    "# import module\n",
    "from tabulate import tabulate\n",
    "\n",
    "#assign data\n",
    "mydata = [\n",
    "    [\"RStudio\"],\n",
    "    [\"Apache Spark\"],\n",
    "    [\"TensorFlow\"]\n",
    "]\n",
    "\n",
    "#CREATE HEADER\n",
    "head = [\"Data Science Tools\"]\n",
    "\n",
    "#display table\n",
    "print(tabulate(mydata, headers=head, tablefmt='grid'))"
   ]
  },
  {
   "cell_type": "markdown",
   "id": "c5b5f34e",
   "metadata": {},
   "source": [
    "### Below are a few examples of evaluating arithmetic expressions in Python"
   ]
  },
  {
   "cell_type": "code",
   "execution_count": 7,
   "id": "af93a5a1",
   "metadata": {},
   "outputs": [
    {
     "data": {
      "text/plain": [
       "17"
      ]
     },
     "execution_count": 7,
     "metadata": {},
     "output_type": "execute_result"
    }
   ],
   "source": [
    "# This a simple arithmetic expression to mutiply then add integers\n",
    "\n",
    "(3*4)+5"
   ]
  },
  {
   "cell_type": "code",
   "execution_count": 9,
   "id": "48175612",
   "metadata": {},
   "outputs": [
    {
     "data": {
      "text/plain": [
       "3.3333333333333335"
      ]
     },
     "execution_count": 9,
     "metadata": {},
     "output_type": "execute_result"
    }
   ],
   "source": [
    "# This will convert 200 minutes to hours by diving by 60\n",
    "\n",
    "200 / 60"
   ]
  },
  {
   "cell_type": "markdown",
   "id": "2c18143e",
   "metadata": {},
   "source": [
    "## Author \n",
    "Nagaraj"
   ]
  },
  {
   "cell_type": "code",
   "execution_count": null,
   "id": "1a45c1e9",
   "metadata": {},
   "outputs": [],
   "source": []
  }
 ],
 "metadata": {
  "kernelspec": {
   "display_name": "Python 3 (ipykernel)",
   "language": "python",
   "name": "python3"
  },
  "language_info": {
   "codemirror_mode": {
    "name": "ipython",
    "version": 3
   },
   "file_extension": ".py",
   "mimetype": "text/x-python",
   "name": "python",
   "nbconvert_exporter": "python",
   "pygments_lexer": "ipython3",
   "version": "3.10.9"
  }
 },
 "nbformat": 4,
 "nbformat_minor": 5
}
